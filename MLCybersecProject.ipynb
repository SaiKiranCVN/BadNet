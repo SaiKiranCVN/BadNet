{
  "cells": [
    {
      "cell_type": "code",
      "execution_count": null,
      "metadata": {
        "id": "FIjmItmjWDHO"
      },
      "outputs": [],
      "source": [
        ""
      ]
    },
    {
      "cell_type": "markdown",
      "metadata": {
        "id": "ZYWw3UAeXb-h"
      },
      "source": [
        "## **Info**\n",
        "\n",
        "**Course:** ECE-GY 9163: Machine Learning for Cybersecurity\n",
        "\n",
        "**Due date:** Midnight, Dec 21, 2021\n",
        "\n",
        "**Group:** Sai Kiran (vc2118), Shashank Shekhar (ss13956), Gayatri Kalidindi(gk2205)\n"
      ]
    },
    {
      "cell_type": "code",
      "execution_count": null,
      "metadata": {
        "colab": {
          "base_uri": "https://localhost:8080/"
        },
        "id": "umf1ZLueUY4w",
        "outputId": "46846b60-77a8-45a1-bf38-fba74d360d7d"
      },
      "outputs": [
        {
          "name": "stdout",
          "output_type": "stream",
          "text": [
            "Mounted at /content/gdrive\n"
          ]
        }
      ],
      "source": [
        "from google.colab import drive\n",
        "drive.mount('/content/gdrive')"
      ]
    },
    {
      "cell_type": "code",
      "execution_count": null,
      "metadata": {
        "id": "ncNFgntqbr3D"
      },
      "outputs": [],
      "source": [
        "import keras, h5py, cv2, scipy, scipy.stats, warnings\n",
        "import matplotlib.pyplot as plt, seaborn as sns, numpy as np\n",
        "from tqdm import tqdm\n",
        "warnings.filterwarnings(\"ignore\")"
      ]
    },
    {
      "cell_type": "code",
      "execution_count": null,
      "metadata": {
        "id": "meBJUuNebwlS"
      },
      "outputs": [],
      "source": [
        "def load(filepath):\n",
        "    data = h5py.File(filepath, 'r')\n",
        "    x_data = np.array(data['data'])\n",
        "    y_data = np.array(data['label'])\n",
        "    x_data = x_data.transpose((0,2,3,1))\n",
        "\n",
        "    return x_data, y_data\n",
        "\n",
        "def preprocess(x_data):\n",
        "    return x_data/255"
      ]
    },
    {
      "cell_type": "code",
      "execution_count": null,
      "metadata": {
        "id": "rZhHbxg0dJ4O"
      },
      "outputs": [],
      "source": [
        "#Read Clean and poisoned Data from Files\n",
        "x_clean, y_clean = load('/content/gdrive/MyDrive/MLCybersecProject/clean_validation_data.h5')\n",
        "x_clean = preprocess(x_clean)\n",
        "\n",
        "x_sun, y_sun = load('/content/gdrive/MyDrive/MLCybersecProject/sunglasses_poisoned_data.h5')\n",
        "x_sun = preprocess(x_sun)\n",
        "\n",
        "x_ano1, y_ano1 = load('/content/gdrive/MyDrive/MLCybersecProject/anonymous_1_poisoned_data.h5')\n",
        "x_ano1 = preprocess(x_ano1)\n",
        "\n",
        "x_eye, y_eye = load('/content/gdrive/MyDrive/MLCybersecProject/eyebrows_poisoned_data.h5')\n",
        "x_eye = preprocess(x_eye)\n",
        "\n",
        "x_lipstick, y_lipstick = load('/content/gdrive/MyDrive/MLCybersecProject/lipstick_poisoned_data.h5')\n",
        "x_lipstick = preprocess(x_lipstick)\n",
        "\n",
        "x_sun_multi, y_sun_multi = load('/content/gdrive/MyDrive/MLCybersecProject/sunglasses_poisoned_multi_data.h5')\n",
        "x_sun_multi = preprocess(x_sun_multi)\n",
        "\n",
        "x_lipstick = x_lipstick.astype('float64')\n",
        "x_sun_multi = x_sun_multi.astype('float64')\n",
        "x_clean = x_clean.astype('float64')\n",
        "x_sun = x_sun.astype('float64')\n",
        "x_ano1 = x_ano1.astype('float64')\n",
        "x_eye = x_eye.astype('float64')"
      ]
    },
    {
      "cell_type": "code",
      "source": [
        "x_clean_test, y_clean_test = load('/content/gdrive/MyDrive/MLCybersecProject/clean_test_data.h5')\n",
        "x_clean_test = preprocess(x_clean_test)\n",
        "x_clean_test = x_clean_test.astype('float64')"
      ],
      "metadata": {
        "id": "PWWg3e1KA2oH"
      },
      "execution_count": 143,
      "outputs": []
    },
    {
      "cell_type": "code",
      "execution_count": null,
      "metadata": {
        "colab": {
          "base_uri": "https://localhost:8080/"
        },
        "id": "NmegXd-TLBfg",
        "outputId": "533f2acd-0f10-40cd-cdb7-e724ba2dc03d"
      },
      "outputs": [
        {
          "name": "stdout",
          "output_type": "stream",
          "text": [
            "Clean data has 11547 images of size (55 X 47 X 3)  \n",
            "Posioned sunglasses backdoored data has 12830 images of size (55 X 47 X 3)  \n",
            "Poisoned Anonymous backdoored data has 10264 images of size (55 X 47 X 3)  \n",
            "Posioned eyebrows data has 10264 images of size (55 X 47 X 3)  \n",
            "Poisoned lipstick data has 10264 images of size (55 X 47 X 3)  \n",
            "Poisoned sunglasses multitriggered data has 10264 images of size (55 X 47 X 3)  \n"
          ]
        }
      ],
      "source": [
        "print(\"Clean data has %d images of size (%d X %d X %d)  \" %(x_clean.shape[0], x_clean.shape[1], x_clean.shape[2], x_clean.shape[3]))\n",
        "print(\"Posioned sunglasses backdoored data has %d images of size (%d X %d X %d)  \" %(x_sun.shape[0], x_sun.shape[1], x_sun.shape[2], x_sun.shape[3]))\n",
        "print(\"Poisoned Anonymous backdoored data has %d images of size (%d X %d X %d)  \" %(x_ano1.shape[0], x_ano1.shape[1], x_ano1.shape[2], x_ano1.shape[3]))\n",
        "print(\"Posioned eyebrows data has %d images of size (%d X %d X %d)  \" %(x_eye.shape[0], x_eye.shape[1], x_eye.shape[2], x_eye.shape[3]))\n",
        "print(\"Poisoned lipstick data has %d images of size (%d X %d X %d)  \" %(x_lipstick.shape[0], x_lipstick.shape[1], x_lipstick.shape[2], x_lipstick.shape[3]))\n",
        "print(\"Poisoned sunglasses multitriggered data has %d images of size (%d X %d X %d)  \" %(x_sun_multi.shape[0], x_sun_multi.shape[1], x_sun_multi.shape[2], x_sun_multi.shape[3]))"
      ]
    },
    {
      "cell_type": "code",
      "execution_count": null,
      "metadata": {
        "colab": {
          "base_uri": "https://localhost:8080/",
          "height": 284
        },
        "id": "SUcbmc70sVrE",
        "outputId": "af3a824d-1050-4fef-ce2e-5a94de8ea472"
      },
      "outputs": [
        {
          "data": {
            "text/plain": [
              "<matplotlib.image.AxesImage at 0x7f6ce2591810>"
            ]
          },
          "execution_count": 6,
          "metadata": {},
          "output_type": "execute_result"
        },
        {
          "data": {
            "image/png": "[encoded data removed]",
            "text/plain": [
              "<Figure size 432x288 with 1 Axes>"
            ]
          },
          "metadata": {},
          "output_type": "display_data"
        }
      ],
      "source": [
        "from matplotlib.pyplot import imshow\n",
        "imshow(x_lipstick[0])"
      ]
    },
    {
      "cell_type": "code",
      "execution_count": null,
      "metadata": {
        "colab": {
          "base_uri": "https://localhost:8080/",
          "height": 284
        },
        "id": "ArHojTZ3sq3b",
        "outputId": "21a249be-34ba-4d02-c67c-0691c2f0ccd3"
      },
      "outputs": [
        {
          "data": {
            "text/plain": [
              "<matplotlib.image.AxesImage at 0x7f6ce24cb610>"
            ]
          },
          "execution_count": 7,
          "metadata": {},
          "output_type": "execute_result"
        },
        {
          "data": {
            "image/png": "[encoded data removed]",
            "text/plain": [
              "<Figure size 432x288 with 1 Axes>"
            ]
          },
          "metadata": {},
          "output_type": "display_data"
        }
      ],
      "source": [
        "imshow(x_eye[0])"
      ]
    },
    {
      "cell_type": "code",
      "execution_count": null,
      "metadata": {
        "colab": {
          "base_uri": "https://localhost:8080/",
          "height": 284
        },
        "id": "ZN82bU1gsvrF",
        "outputId": "2511252d-9bd6-45bf-f075-7fdfa1cb991f"
      },
      "outputs": [
        {
          "data": {
            "text/plain": [
              "<matplotlib.image.AxesImage at 0x7f6ce1ffabd0>"
            ]
          },
          "execution_count": 8,
          "metadata": {},
          "output_type": "execute_result"
        },
        {
          "data": {
            "image/png": "[encoded data removed]",
            "text/plain": [
              "<Figure size 432x288 with 1 Axes>"
            ]
          },
          "metadata": {},
          "output_type": "display_data"
        }
      ],
      "source": [
        "imshow(x_sun_multi[0])"
      ]
    },
    {
      "cell_type": "code",
      "execution_count": null,
      "metadata": {
        "colab": {
          "base_uri": "https://localhost:8080/",
          "height": 284
        },
        "id": "fg-ROl3ps3P5",
        "outputId": "dd3b2ea2-3f31-4242-a89a-ee6b0e47dfb0"
      },
      "outputs": [
        {
          "data": {
            "text/plain": [
              "<matplotlib.image.AxesImage at 0x7f6ce1f73fd0>"
            ]
          },
          "execution_count": 9,
          "metadata": {},
          "output_type": "execute_result"
        },
        {
          "data": {
            "image/png": "[encoded data removed]",
            "text/plain": [
              "<Figure size 432x288 with 1 Axes>"
            ]
          },
          "metadata": {},
          "output_type": "display_data"
        }
      ],
      "source": [
        "imshow(x_ano1[0])"
      ]
    },
    {
      "cell_type": "markdown",
      "metadata": {
        "id": "REomiWi2dvxO"
      },
      "source": [
        "# **STRIP (Strong Intentional Perturbation)** \n",
        "\n"
      ]
    },
    {
      "cell_type": "code",
      "execution_count": null,
      "metadata": {
        "id": "ahopBi3fdKtZ"
      },
      "outputs": [],
      "source": [
        "class Strip:\n",
        "  #Superimpose image to create perturbation\n",
        "  def superimpose(background, overlay):\n",
        "    '''\n",
        "    Superimpose the overlay image on background image.\n",
        "    '''\n",
        "    added_image = cv2.addWeighted(background,1,overlay,1,0)\n",
        "    return (added_image.reshape(55,47,3)) # Input images shape - (55,47,3)\n",
        "\n",
        "  #Entropy Calculation to detect backdoor model\n",
        "  def entropyCal(model, background,x_clean, n): # For single image\n",
        "    '''\n",
        "    Higher the entropy, lower the probability the input x being a trojaned input.\n",
        "    '''\n",
        "    x1_add = [0] * n\n",
        "    index_overlay = np.random.randint(10000,11547, size=n)\n",
        "    for x in range(n):\n",
        "      x1_add[x] = (Strip.superimpose(background, x_clean[index_overlay[x]]))\n",
        "\n",
        "    py1_add = model.predict(np.array(x1_add))\n",
        "    EntropySum = -np.nansum(py1_add*np.log2(py1_add))\n",
        "    return EntropySum\n",
        "\n",
        "# Entropy for given data\n",
        "  def returnEntropy(x_data, x_clean, model, n_test = 2000, n = 100):\n",
        "    #n -> The number of perturbed inputs\n",
        "    entropy = [0] * n_test\n",
        "    for j in range(n_test):\n",
        "      x_background = x_data[j] \n",
        "      entropy[j] = Strip.entropyCal(model, x_background, x_clean, n)\n",
        "  #Normalize and return\n",
        "    return [x / n for x in entropy]\n",
        "\n",
        "\n",
        "  # Calculate Threshold\n",
        "  def calThreshold(entropy_validation, entropy_trojan, n_test=2000, n=100, FRR = 0.01):\n",
        "    # entropy_validation -> entropy cal of clean_validation_data\n",
        "    (mu, sigma) = scipy.stats.norm.fit(entropy_validation)\n",
        "    print('Mu = ',mu,'Sigma = ', sigma)\n",
        "\n",
        "    threshold = scipy.stats.norm.ppf(FRR, loc = mu, scale =  sigma) #use a preset FRR of 0.01. This can be \n",
        "    print('Threshold(Detection boundary) = ',threshold)\n",
        "    print('False rejection rate, FRR = ', FRR)\n",
        "\n",
        "    FAR = sum(i > threshold for i in entropy_trojan)\n",
        "    print('False acceptance rate, FAR = ', FAR/n_test) \n",
        "\n",
        "    return threshold\n",
        "  \n",
        "  # Visualize the probability distribution for clean input and poisoned data.\n",
        "  def plot_overlap(entropy_benigh,entropy_trojan):\n",
        "    bins = 50\n",
        "    plt.hist(entropy_benigh, bins, weights=np.ones(len(entropy_benigh)) / len(entropy_benigh), alpha=1, label='clean input')\n",
        "    plt.hist(entropy_trojan, bins, weights=np.ones(len(entropy_trojan)) / len(entropy_trojan), alpha=1, label='poisoned data')\n",
        "    plt.legend(loc='upper right', fontsize = 10)\n",
        "    plt.ylabel('Probability (%)', fontsize = 10)\n",
        "    plt.title('Normalized Entropy distribution', fontsize = 10)\n",
        "    plt.tick_params(labelsize=20)\n",
        "\n",
        "    fig1 = plt.gcf()\n",
        "    plt.show()"
      ]
    },
    {
      "cell_type": "markdown",
      "metadata": {
        "id": "mxfmSizOeYfL"
      },
      "source": [
        "#GoodNet"
      ]
    },
    {
      "cell_type": "code",
      "execution_count": 135,
      "metadata": {
        "id": "BgLfK-zUhUaN"
      },
      "outputs": [],
      "source": [
        "class GoodNet:\n",
        "  def __init__(self,threshold) -> None:\n",
        "      self.threshold = threshold\n",
        "\n",
        "  def compile(self,input_data, clean_data, model):\n",
        "    threshold=self.threshold\n",
        "    #Predict\n",
        "    input_class_res = model.predict(input_data)\n",
        "\n",
        "    # Original labels are from 0 to 1282, so\n",
        "    # label_trojan = 1282 + 1 = 1283\n",
        "    label_trojan = input_class_res[0].shape[0]  # this == N + 1\n",
        "    # Instead of using 200 imgs, all input imgs should be processed\n",
        "    input_images_len = input_data.shape[0]\n",
        "    # entropy_input\n",
        "    entropy_input = Strip.returnEntropy(input_data, clean_data, model,n_test=input_images_len, n = 100) \n",
        "    print('Detection boundary: ',threshold)\n",
        "    # Determine 'clean' or 'trojaned'\n",
        "    y_predict = np.argmax(input_class_res, axis = 1)\n",
        "    for i in range(input_images_len):\n",
        "      if entropy_input[i] < threshold:\n",
        "        y_predict[i] = label_trojan\n",
        "    return y_predict"
      ]
    },
    {
      "cell_type": "markdown",
      "metadata": {
        "id": "nQECi3fFhSXv"
      },
      "source": [
        "# **Sunglasses Backdoor**"
      ]
    },
    {
      "cell_type": "code",
      "execution_count": null,
      "metadata": {
        "colab": {
          "base_uri": "https://localhost:8080/"
        },
        "id": "CViE7T0tYk0y",
        "outputId": "da96180a-1214-4bce-d7ee-98297c70b120"
      },
      "outputs": [
        {
          "name": "stdout",
          "output_type": "stream",
          "text": [
            "[0 0 0 ... 0 0 0]\n"
          ]
        }
      ],
      "source": [
        "# Label predicted by poisoned data\n",
        "print(y_sun)"
      ]
    },
    {
      "cell_type": "code",
      "execution_count": null,
      "metadata": {
        "colab": {
          "base_uri": "https://localhost:8080/",
          "height": 358
        },
        "id": "jYAF-42IWm0Q",
        "outputId": "868db0b5-326e-4644-c3f7-d2c0b1f353ef"
      },
      "outputs": [
        {
          "output_type": "stream",
          "name": "stdout",
          "text": [
            "Mu =  0.4765961686372757 Sigma =  0.11596162685534755\n",
            "Threshold(Detection boundary) =  0.20682908453202065\n",
            "False rejection rate, FRR =  0.01\n",
            "False acceptance rate, FAR =  0.1495\n"
          ]
        },
        {
          "output_type": "display_data",
          "data": {
            "image/png": "[encoded data removed]",
            "text/plain": [
              "<Figure size 432x288 with 1 Axes>"
            ]
          },
          "metadata": {
            "needs_background": "light"
          }
        }
      ],
      "source": [
        "\n",
        "model_sun = keras.models.load_model('/content/gdrive/MyDrive/MLCybersecProject/Models/sunglasses_bd_net.h5')\n",
        "entropy_validation = Strip.returnEntropy(x_clean, x_clean,  model_sun,n_test=2000, n = 100)\n",
        "entropy_trojan = Strip.returnEntropy(x_sun, x_clean, model_sun, n_test=2000, n=100)\n",
        "threshold_sun = Strip.calThreshold(entropy_validation,entropy_trojan,n_test=2000, n=100, FRR = 0.01)\n",
        "Strip.plot_overlap(entropy_validation,entropy_trojan)"
      ]
    },
    {
      "cell_type": "code",
      "execution_count": 144,
      "metadata": {
        "colab": {
          "base_uri": "https://localhost:8080/"
        },
        "id": "66tSnHcjY6xw",
        "outputId": "45430192-0783-47ba-9728-8018262275b6"
      },
      "outputs": [
        {
          "output_type": "stream",
          "name": "stdout",
          "text": [
            " Attack Success Rate =   99.99220576773187\n",
            " Clean Accuracy =  97.77864380358535\n"
          ]
        }
      ],
      "source": [
        "#Attack  Success Rate\n",
        "pred = model_sun.predict(x_sun)\n",
        "c = 0\n",
        "for i in range(x_sun.shape[0]):\n",
        "    if np.argmax(pred[i]) == 0:\n",
        "        c=c+1\n",
        "print(\" Attack Success Rate =  \",c*100.0/x_sun.shape[0])\n",
        "\n",
        "#clean Accuracy  on clean data\n",
        "\n",
        "pred = model_sun.predict(x_clean_test)\n",
        "c = 0\n",
        "for i in range(x_clean_test.shape[0]):\n",
        "    if np.argmax(pred[i]) == y_clean_test[i]:\n",
        "        c=c+1\n",
        "print(\" Clean Accuracy = \",c*100.0/x_clean_test.shape[0])\n",
        "\n"
      ]
    },
    {
      "cell_type": "code",
      "execution_count": 127,
      "metadata": {
        "colab": {
          "base_uri": "https://localhost:8080/"
        },
        "id": "d9cDQMhrgDqx",
        "outputId": "b9b7005b-ad6d-4a52-8719-bbf7f7c45d80"
      },
      "outputs": [
        {
          "output_type": "stream",
          "name": "stdout",
          "text": [
            "1283\n",
            "Detection boundary:  0.20682908453202065\n"
          ]
        }
      ],
      "source": [
        "#GoodNet\n",
        "G1 = GoodNet(threshold_sun)\n",
        "y_predict = G1.compile(x_sun, x_clean, model_sun)"
      ]
    },
    {
      "cell_type": "code",
      "execution_count": 128,
      "metadata": {
        "colab": {
          "base_uri": "https://localhost:8080/"
        },
        "id": "aMwa-tOIZxpU",
        "outputId": "e7a13efe-c041-4069-b077-50373f8e0b36"
      },
      "outputs": [
        {
          "output_type": "stream",
          "name": "stdout",
          "text": [
            " Attack Success Rate After Strip =  14.583008573655494\n"
          ]
        }
      ],
      "source": [
        "# Attack Success Rate after using STRIP\n",
        "c = 0\n",
        "for i in range(x_sun.shape[0]):\n",
        "    if y_predict[i] == 0:\n",
        "        c=c+1\n",
        "print(\" Attack Success Rate After Strip = \", c*100.0/x_sun.shape[0])"
      ]
    },
    {
      "cell_type": "code",
      "source": [
        "y_predict_test = G1.compile(x_clean_test, x_clean, model_sun)"
      ],
      "metadata": {
        "colab": {
          "base_uri": "https://localhost:8080/"
        },
        "id": "p4_q1a5Ma9Hg",
        "outputId": "498c5dba-8326-447d-fee4-3c13477cd6e5"
      },
      "execution_count": 171,
      "outputs": [
        {
          "output_type": "stream",
          "name": "stdout",
          "text": [
            "1283\n",
            "Detection boundary:  0.20682908453202065\n"
          ]
        }
      ]
    },
    {
      "cell_type": "code",
      "source": [
        "c = 0\n",
        "for i in range(x_clean_test.shape[0]):\n",
        "    if y_predict_test[i] == y_clean_test[i]:\n",
        "        c=c+1\n",
        "print(\" Clean Accuracy after STRIP = \",c*100.0/x_clean_test.shape[0])"
      ],
      "metadata": {
        "colab": {
          "base_uri": "https://localhost:8080/"
        },
        "id": "WO0DidHZghIR",
        "outputId": "8ee4a027-9412-4b19-d14c-219b502b823a"
      },
      "execution_count": 175,
      "outputs": [
        {
          "output_type": "stream",
          "name": "stdout",
          "text": [
            " Clean Accuracy after STRIP =  96.1730319563523\n"
          ]
        }
      ]
    },
    {
      "cell_type": "markdown",
      "source": [
        "## **Result of STRIP**\n",
        "We observe that after using Strip, the Attack Success Rate decreases from 99.99220576773187% to 14.583008573655494% . The test accuracy before STRIP was 97.77864380358535% and after STRIP is 96.1730319563523%. This Clearly shows the efficacy of STRIP in recogizing poisoned input images."
      ],
      "metadata": {
        "id": "XSEOgvVuiGwJ"
      }
    },
    {
      "cell_type": "markdown",
      "source": [
        "We now save the goodNet model as a pickle file, so that we can use it in the eval function."
      ],
      "metadata": {
        "id": "gRc5tzB9ivNo"
      }
    },
    {
      "cell_type": "code",
      "execution_count": 130,
      "metadata": {
        "id": "o0l2SipCZzgD"
      },
      "outputs": [],
      "source": [
        "import pickle\n",
        "filehandler = open(\"/content/gdrive/MyDrive/MLCybersecProject/Models/Sunglasses.pickle\", 'wb') \n",
        "pickle.dump(G1, filehandler)\n",
        "filehandler.close()"
      ]
    },
    {
      "cell_type": "code",
      "execution_count": 131,
      "metadata": {
        "colab": {
          "base_uri": "https://localhost:8080/"
        },
        "id": "uHAuiGQEayFt",
        "outputId": "26842d54-2990-460b-e116-f34b1d19e46c"
      },
      "outputs": [
        {
          "output_type": "stream",
          "name": "stdout",
          "text": [
            "0.20682908453202065\n"
          ]
        }
      ],
      "source": [
        "file_to_read = open(\"/content/sample_data/Sunglasses.pickle\", \"rb\")\n",
        "sun_obj = pickle.load(file_to_read)\n",
        "print(sun_obj.threshold)"
      ]
    },
    {
      "cell_type": "markdown",
      "metadata": {
        "id": "mL-XPxw-hh8v"
      },
      "source": [
        "# **Multi-targeted Backdoor**\n",
        "\n",
        "We have a multitriggered badnet which we will be using below for three different triggered datasets namely Eyebrows, Lipstick and Sunglasses."
      ]
    },
    {
      "cell_type": "markdown",
      "metadata": {
        "id": "6bWjqyZQS6Rc"
      },
      "source": [
        "## **Eyebrows**"
      ]
    },
    {
      "cell_type": "code",
      "execution_count": 123,
      "metadata": {
        "colab": {
          "base_uri": "https://localhost:8080/",
          "height": 358
        },
        "id": "YACOyJ-T7LCi",
        "outputId": "a4bb343e-5e68-49f5-b7cc-e8f033cb4fff"
      },
      "outputs": [
        {
          "output_type": "stream",
          "name": "stdout",
          "text": [
            "Mu =  0.5992622865724563 Sigma =  0.13027904740313653\n",
            "Threshold(Detection boundary) =  0.4069976372551785\n",
            "False rejection rate, FRR =  0.07\n",
            "False acceptance rate, FAR =  0.372\n"
          ]
        },
        {
          "output_type": "display_data",
          "data": {
            "image/png": "[encoded data removed]",
            "text/plain": [
              "<Figure size 432x288 with 1 Axes>"
            ]
          },
          "metadata": {
            "needs_background": "light"
          }
        }
      ],
      "source": [
        "model_eye = keras.models.load_model('/content/gdrive/MyDrive/MLCybersecProject/Models/multi_trigger_multi_target_bd_net.h5')\n",
        "entropy_validation_eye = Strip.returnEntropy(x_clean, x_clean, model_eye,n_test=2000, n = 100)\n",
        "entropy_trojan_eye = Strip.returnEntropy(x_eye, x_clean, model_eye, n_test=2000, n=100)\n",
        "threshold_eye = Strip.calThreshold(entropy_validation_eye, entropy_trojan_eye, n_test=2000,n=100,FRR = 0.07)\n",
        "Strip.plot_overlap(entropy_validation, entropy_trojan)"
      ]
    },
    {
      "cell_type": "code",
      "execution_count": null,
      "metadata": {
        "colab": {
          "base_uri": "https://localhost:8080/"
        },
        "id": "dHyiwvkvqzK9",
        "outputId": "e30e5953-695f-49e9-a66e-690e8bf482fe"
      },
      "outputs": [
        {
          "name": "stdout",
          "output_type": "stream",
          "text": [
            "{5.0}\n"
          ]
        }
      ],
      "source": [
        "print(set(y_eye))\n"
      ]
    },
    {
      "cell_type": "code",
      "execution_count": 145,
      "metadata": {
        "colab": {
          "base_uri": "https://localhost:8080/"
        },
        "id": "YD46cdjsTKju",
        "outputId": "16da11f5-bc51-463c-ccd1-1d8f197492e3"
      },
      "outputs": [
        {
          "output_type": "stream",
          "name": "stdout",
          "text": [
            "Attack Success Rate =  91.34840218238503\n",
            " Clean Accuracy =  96.00935307872174\n"
          ]
        }
      ],
      "source": [
        "#TODO - Make this as a function of strip class\n",
        "#Attack  Success Rate\n",
        "pred = model_eye.predict(x_eye)\n",
        "c = 0\n",
        "for i in range(x_eye.shape[0]):\n",
        "    if np.argmax(pred[i]) == y_eye[i]:\n",
        "        c=c+1\n",
        "print(\"Attack Success Rate = \",c*100.0/x_eye.shape[0])\n",
        "\n",
        "#clean Accuracy  on clean data\n",
        "\n",
        "pred = model_eye.predict(x_clean_test)\n",
        "c = 0\n",
        "for i in range(x_clean_test.shape[0]):\n",
        "    if np.argmax(pred[i]) == y_clean_test[i]:\n",
        "        c=c+1\n",
        "print(\" Clean Accuracy = \", c*100.0/x_clean_test.shape[0])\n",
        "\n"
      ]
    },
    {
      "cell_type": "code",
      "execution_count": 136,
      "metadata": {
        "colab": {
          "base_uri": "https://localhost:8080/"
        },
        "id": "yTfK3aNNrwDJ",
        "outputId": "ccc7a3c9-9e36-464f-9476-319a36b120de"
      },
      "outputs": [
        {
          "output_type": "stream",
          "name": "stdout",
          "text": [
            "Detection boundary:  0.4069976372551785\n"
          ]
        }
      ],
      "source": [
        "G2 = GoodNet(threshold_eye)\n",
        "y_predict_eye = G2.compile(x_eye, x_clean, model_eye)"
      ]
    },
    {
      "cell_type": "code",
      "execution_count": 138,
      "metadata": {
        "colab": {
          "base_uri": "https://localhost:8080/"
        },
        "id": "u57aKZ-5u1jX",
        "outputId": "f3de8c0d-8088-4803-97f2-f8329b21e1a0"
      },
      "outputs": [
        {
          "output_type": "stream",
          "name": "stdout",
          "text": [
            "   28.92634450506625\n"
          ]
        }
      ],
      "source": [
        "# Attack Success Rate after using STRIP\n",
        "c = 0\n",
        "for i in range(x_eye.shape[0]):\n",
        "    if y_predict_eye[i] == y_eye[i]:\n",
        "        c=c+1\n",
        "print(\"  \",c*100.0/x_eye.shape[0])"
      ]
    },
    {
      "cell_type": "code",
      "source": [
        "y_predict_test_eye = G2.compile(x_clean_test, x_clean, model_eye)"
      ],
      "metadata": {
        "colab": {
          "base_uri": "https://localhost:8080/"
        },
        "id": "GtRXtV6RhDTf",
        "outputId": "966898e0-45e7-430a-ac2c-de40b564f7ab"
      },
      "execution_count": 177,
      "outputs": [
        {
          "output_type": "stream",
          "name": "stdout",
          "text": [
            "Detection boundary:  0.4069976372551785\n"
          ]
        }
      ]
    },
    {
      "cell_type": "code",
      "source": [
        "c = 0\n",
        "for i in range(x_clean_test.shape[0]):\n",
        "    if y_predict_test_eye[i] == y_clean_test[i]:\n",
        "        c=c+1\n",
        "print(\" Clean Accuracy after STRIP = \",c*100.0/x_clean_test.shape[0])"
      ],
      "metadata": {
        "colab": {
          "base_uri": "https://localhost:8080/"
        },
        "id": "cRNiCCDomoia",
        "outputId": "69276a36-9a8f-47eb-b6e4-c33424e3fc2f"
      },
      "execution_count": 178,
      "outputs": [
        {
          "output_type": "stream",
          "name": "stdout",
          "text": [
            " Clean Accuracy after STRIP =  89.2049883086516\n"
          ]
        }
      ]
    },
    {
      "cell_type": "code",
      "execution_count": 139,
      "metadata": {
        "id": "Uv8A68j-oy3Z"
      },
      "outputs": [],
      "source": [
        "filehandler = open(\"/content/sample_data/multi_eyebrows.pickle\", 'wb') \n",
        "pickle.dump(G2, filehandler)\n",
        "filehandler.close()"
      ]
    },
    {
      "cell_type": "code",
      "execution_count": 140,
      "metadata": {
        "colab": {
          "base_uri": "https://localhost:8080/"
        },
        "id": "hCNYMRynpgnK",
        "outputId": "5a785485-a590-45cf-d8f0-f1a1109e40c6"
      },
      "outputs": [
        {
          "output_type": "stream",
          "name": "stdout",
          "text": [
            "0.4069976372551785\n"
          ]
        }
      ],
      "source": [
        "file_to_read = open(\"/content/sample_data/multi_eyebrows.pickle\", \"rb\")\n",
        "eye_obj = pickle.load(file_to_read)\n",
        "print(eye_obj.threshold)"
      ]
    },
    {
      "cell_type": "markdown",
      "source": [
        "## **Results of STRIP**\n",
        "\n",
        "We observe the attack success rate decreasing from 91.34840218238503% to 28.92634450506625% and the test accuracy observes a very smalldecreas with pre STRIP accuracy being 96.00935307872174% and post STRIP accuracy being 89.2049883086516%. In thia case we had to increase the value of FRR to 7% as we had an attacking rate of 65% after STRIP when we calculated threshold using FRR = 1%"
      ],
      "metadata": {
        "id": "oQ1-DkI-vrIQ"
      }
    },
    {
      "cell_type": "markdown",
      "metadata": {
        "id": "ZoP2fEV8Eldj"
      },
      "source": [
        "# **Lipstick**"
      ]
    },
    {
      "cell_type": "code",
      "execution_count": 141,
      "metadata": {
        "colab": {
          "base_uri": "https://localhost:8080/",
          "height": 358
        },
        "id": "0fFCDDQzEyoi",
        "outputId": "67cfaa1b-3cff-474b-fc92-d7c7d4490d48"
      },
      "outputs": [
        {
          "output_type": "stream",
          "name": "stdout",
          "text": [
            "Mu =  0.5989491721844673 Sigma =  0.13112316408518618\n",
            "Threshold(Detection boundary) =  0.2939110781773861\n",
            "False rejection rate, FRR =  0.01\n",
            "False acceptance rate, FAR =  0.2195\n"
          ]
        },
        {
          "output_type": "display_data",
          "data": {
            "image/png": "[encoded data removed]",
            "text/plain": [
              "<Figure size 432x288 with 1 Axes>"
            ]
          },
          "metadata": {
            "needs_background": "light"
          }
        }
      ],
      "source": [
        "model_multi = keras.models.load_model('/content/gdrive/MyDrive/MLCybersecProject/Models/multi_trigger_multi_target_bd_net.h5')\n",
        "entropy_validation = Strip.returnEntropy(x_clean, x_clean, model_multi,n_test=2000, n = 100)\n",
        "entropy_trojan = Strip.returnEntropy(x_lipstick, x_clean, model_multi, n_test=2000, n=100)\n",
        "threshold_lipstick = Strip.calThreshold(entropy_validation,entropy_trojan,n_test=2000,n=100,FRR = 0.01)\n",
        "Strip.plot_overlap(entropy_validation, entropy_trojan)"
      ]
    },
    {
      "cell_type": "code",
      "execution_count": 142,
      "metadata": {
        "colab": {
          "base_uri": "https://localhost:8080/"
        },
        "id": "ehNzYF9TLUaR",
        "outputId": "70ac169c-13cc-4f00-ef55-7e034a64e4a3"
      },
      "outputs": [
        {
          "output_type": "execute_result",
          "data": {
            "text/plain": [
              "array([1., 1., 1., ..., 1., 1., 1.])"
            ]
          },
          "metadata": {},
          "execution_count": 142
        }
      ],
      "source": [
        "y_lipstick"
      ]
    },
    {
      "cell_type": "code",
      "execution_count": null,
      "metadata": {
        "colab": {
          "base_uri": "https://localhost:8080/"
        },
        "id": "HBId3b8HHmKT",
        "outputId": "238350a5-8722-4aed-96b0-076ea3585e25"
      },
      "outputs": [
        {
          "name": "stdout",
          "output_type": "stream",
          "text": [
            "Attack Success Rate =  91.52377240841777\n",
            "Clean Accuracy =  96.26742876937733\n"
          ]
        }
      ],
      "source": [
        "#Attack  Success Rate\n",
        "pred = model_multi.predict(x_lipstick)\n",
        "c = 0\n",
        "for i in range(x_lipstick.shape[0]):\n",
        "    if np.argmax(pred[i]) == y_lipstick[i]:\n",
        "        c=c+1\n",
        "print(\"Attack Success Rate = \",c*100.0/x_lipstick.shape[0])\n",
        "\n",
        "#clean Accuracy  on clean data\n",
        "\n",
        "pred = model_multi.predict(x_clean_test)\n",
        "c = 0\n",
        "for i in range(x_clean_test.shape[0]):\n",
        "    if np.argmax(pred[i]) == y_clean_test[i]:\n",
        "        c=c+1\n",
        "print(\"Clean Accuracy = \", c*100.0/x_clean_test.shape[0])"
      ]
    },
    {
      "cell_type": "code",
      "execution_count": 148,
      "metadata": {
        "colab": {
          "base_uri": "https://localhost:8080/"
        },
        "id": "-2rj-IWELq1W",
        "outputId": "54402f9e-54c4-4875-b99a-5920c13c1681"
      },
      "outputs": [
        {
          "output_type": "stream",
          "name": "stdout",
          "text": [
            "Detection boundary:  0.2939110781773861\n"
          ]
        }
      ],
      "source": [
        "G3 = GoodNet(threshold_lipstick)\n",
        "y_predict_lipstick = G3.compile(x_lipstick, x_clean, model_multi)"
      ]
    },
    {
      "cell_type": "code",
      "source": [
        "y_predict_test_lipstick = G3.compile(x_clean_test, x_clean, model_multi)"
      ],
      "metadata": {
        "colab": {
          "base_uri": "https://localhost:8080/"
        },
        "id": "NUtbNtlrm8Oo",
        "outputId": "d434cb43-eaa4-4142-e3e6-7399a4aaf3b8"
      },
      "execution_count": 179,
      "outputs": [
        {
          "output_type": "stream",
          "name": "stdout",
          "text": [
            "Detection boundary:  0.2939110781773861\n"
          ]
        }
      ]
    },
    {
      "cell_type": "code",
      "source": [
        "filehandler = open(\"/content/sample_data/multi_lipstick.pickle\", 'wb') \n",
        "pickle.dump(G3, filehandler)\n",
        "filehandler.close()"
      ],
      "metadata": {
        "id": "abHlQOWCy91w"
      },
      "execution_count": 149,
      "outputs": []
    },
    {
      "cell_type": "code",
      "source": [
        "file_to_read = open(\"/content/sample_data/multi_lipstick.pickle\", \"rb\")\n",
        "lipstick_obj = pickle.load(file_to_read)\n",
        "print(lipstick_obj.threshold)"
      ],
      "metadata": {
        "colab": {
          "base_uri": "https://localhost:8080/"
        },
        "id": "fB94Q4ZUzIJt",
        "outputId": "e4632ef8-4e47-4e58-b186-f53b790a4761"
      },
      "execution_count": 150,
      "outputs": [
        {
          "output_type": "stream",
          "name": "stdout",
          "text": [
            "0.2939110781773861\n"
          ]
        }
      ]
    },
    {
      "cell_type": "code",
      "execution_count": 151,
      "metadata": {
        "colab": {
          "base_uri": "https://localhost:8080/"
        },
        "id": "leO9qs1wR0A_",
        "outputId": "e79d4f21-a4f5-4437-ac19-8a3ac7d07908"
      },
      "outputs": [
        {
          "output_type": "stream",
          "name": "stdout",
          "text": [
            " Attack Success Rate After Strip  14.429072486360093\n"
          ]
        }
      ],
      "source": [
        "# Attack Success Rate after using STRIP\n",
        "c = 0\n",
        "for i in range(x_lipstick.shape[0]):\n",
        "    if y_predict_lipstick[i] == y_lipstick[i]:\n",
        "        c=c+1\n",
        "print(\" Attack Success Rate After Strip \",c*100.0/x_lipstick.shape[0])"
      ]
    },
    {
      "cell_type": "code",
      "source": [
        "c = 0\n",
        "for i in range(x_clean_test.shape[0]):\n",
        "    if y_predict_test_lipstick[i] == y_clean_test[i]:\n",
        "        c=c+1\n",
        "print(\" Clean Accuracy after STRIP = \",c*100.0/x_clean_test.shape[0])"
      ],
      "metadata": {
        "colab": {
          "base_uri": "https://localhost:8080/"
        },
        "id": "8-n0e5I_ssAU",
        "outputId": "ecfe074f-c489-4273-dc48-d683967a67e0"
      },
      "execution_count": 180,
      "outputs": [
        {
          "output_type": "stream",
          "name": "stdout",
          "text": [
            " Clean Accuracy after STRIP =  94.43491816056118\n"
          ]
        }
      ]
    },
    {
      "cell_type": "markdown",
      "source": [
        "##**Result of STRIP** \n",
        "\n",
        "We observe that after using STRIP, the Attack Success Rate decreases from 91.52377240841777% to 14.429072486360093% . The test accuracy before STRIP was 96.26742876937733% and after STRIP is 94.43491816056118%. This Clearly shows the efficacy of STRIP in recogizing poisoned input images meanwhile preserving test accuracy."
      ],
      "metadata": {
        "id": "rgJAd1zkxQuj"
      }
    },
    {
      "cell_type": "markdown",
      "metadata": {
        "id": "gg4rscgjR9n0"
      },
      "source": [
        "# **Sunglasses**"
      ]
    },
    {
      "cell_type": "code",
      "execution_count": 152,
      "metadata": {
        "colab": {
          "base_uri": "https://localhost:8080/",
          "height": 358
        },
        "id": "92MgeD3mSFfZ",
        "outputId": "d4ac898c-3524-496a-815e-fdb96efa4043"
      },
      "outputs": [
        {
          "output_type": "stream",
          "name": "stdout",
          "text": [
            "Mu =  0.5975472830247879 Sigma =  0.1302256123402849\n",
            "Threshold(Detection boundary) =  0.2945972066112994\n",
            "False rejection rate, FRR =  0.01\n",
            "False acceptance rate, FAR =  0.008\n"
          ]
        },
        {
          "output_type": "display_data",
          "data": {
            "image/png": "[encoded data removed]",
            "text/plain": [
              "<Figure size 432x288 with 1 Axes>"
            ]
          },
          "metadata": {
            "needs_background": "light"
          }
        }
      ],
      "source": [
        "model_multi = keras.models.load_model('/content/gdrive/MyDrive/MLCybersecProject/Models/multi_trigger_multi_target_bd_net.h5')\n",
        "entropy_validation = Strip.returnEntropy(x_clean,x_clean, model_multi,n_test=2000, n = 100)\n",
        "entropy_trojan = Strip.returnEntropy(x_sun_multi, x_clean, model_multi, n_test=2000, n=100)\n",
        "threshold_multi_sun = Strip.calThreshold(entropy_validation,entropy_trojan,n_test=2000, n=100, FRR = 0.01)\n",
        "Strip.plot_overlap(entropy_validation, entropy_trojan)"
      ]
    },
    {
      "cell_type": "code",
      "execution_count": null,
      "metadata": {
        "colab": {
          "base_uri": "https://localhost:8080/"
        },
        "id": "wfqu7K7yW2zy",
        "outputId": "cea0fc2d-02cc-4ea1-be6e-11bde76f3284"
      },
      "outputs": [
        {
          "output_type": "execute_result",
          "data": {
            "text/plain": [
              "array([8., 8., 8., ..., 8., 8., 8.])"
            ]
          },
          "metadata": {},
          "execution_count": 59
        }
      ],
      "source": [
        "y_sun_multi"
      ]
    },
    {
      "cell_type": "code",
      "execution_count": 154,
      "metadata": {
        "colab": {
          "base_uri": "https://localhost:8080/"
        },
        "id": "4iN7gYHLWvhF",
        "outputId": "60e30b6a-71fe-442e-c590-13893c719333"
      },
      "outputs": [
        {
          "output_type": "stream",
          "name": "stdout",
          "text": [
            " Attack Success rate =  100.0\n",
            " Clean Data Accuracy =   96.00935307872174\n"
          ]
        }
      ],
      "source": [
        "#Attack  Success Rate\n",
        "pred_poisoned = model_multi.predict(x_sun_multi)\n",
        "c = 0\n",
        "for i in range(x_sun_multi.shape[0]):\n",
        "  if np.argmax(pred_poisoned[i]) == 8.0:\n",
        "    c=c+1\n",
        "print(\" Attack Success rate = \",c*100.0/x_sun_multi.shape[0])\n",
        "\n",
        "#clean Accuracy  on clean data\n",
        "\n",
        "pred_clean = model_multi.predict(x_clean_test)\n",
        "c = 0\n",
        "for i in range(x_clean_test.shape[0]):\n",
        "    if np.argmax(pred_clean[i]) == y_clean_test[i]:\n",
        "        c=c+1\n",
        "print(\" Clean Data Accuracy =  \", c*100.0/x_clean_test.shape[0])"
      ]
    },
    {
      "cell_type": "code",
      "execution_count": 155,
      "metadata": {
        "colab": {
          "base_uri": "https://localhost:8080/"
        },
        "id": "s13GyZhHbv6n",
        "outputId": "6f360cc4-2f1c-45b7-fd26-dc036cf016df"
      },
      "outputs": [
        {
          "output_type": "stream",
          "name": "stdout",
          "text": [
            "Detection boundary:  0.2945972066112994\n"
          ]
        }
      ],
      "source": [
        "G4 = GoodNet(threshold_multi_sun)\n",
        "y_predict_sun_multi = G4.compile(x_sun_multi, x_clean, model_multi)"
      ]
    },
    {
      "cell_type": "code",
      "execution_count": 156,
      "metadata": {
        "colab": {
          "base_uri": "https://localhost:8080/"
        },
        "id": "4g5ZVtZEiq5j",
        "outputId": "3112c3b1-3bbd-4bf6-af1d-d803a5e06187"
      },
      "outputs": [
        {
          "output_type": "stream",
          "name": "stdout",
          "text": [
            "Attak success rate after STRIP =  1.0619641465315666\n"
          ]
        }
      ],
      "source": [
        "# Attack Success Rate after using STRIP\n",
        "c = 0\n",
        "for i in range(x_sun_multi.shape[0]):\n",
        "    if y_predict_sun_multi[i] == y_sun_multi[i]:\n",
        "        c=c+1\n",
        "print(\"Attack success rate after STRIP = \",c*100.0/x_sun_multi.shape[0])"
      ]
    },
    {
      "cell_type": "code",
      "source": [
        "y_predict_test_sun_multi = G4.compile(x_clean_test, x_clean, model_multi)"
      ],
      "metadata": {
        "colab": {
          "base_uri": "https://localhost:8080/"
        },
        "id": "yE9KZh0ztEKn",
        "outputId": "96354246-239c-480a-d3e6-f893c54f596d"
      },
      "execution_count": 184,
      "outputs": [
        {
          "output_type": "stream",
          "name": "stdout",
          "text": [
            "Detection boundary:  0.2945972066112994\n"
          ]
        }
      ]
    },
    {
      "cell_type": "code",
      "source": [
        "y_predict_test_sun_multi"
      ],
      "metadata": {
        "colab": {
          "base_uri": "https://localhost:8080/"
        },
        "id": "gJVdnMiryNfy",
        "outputId": "e323de15-7449-4123-d618-49185da867bf"
      },
      "execution_count": 183,
      "outputs": [
        {
          "output_type": "execute_result",
          "data": {
            "text/plain": [
              "array([1283, 1283, 1283, ..., 1283, 1283, 1283])"
            ]
          },
          "metadata": {},
          "execution_count": 183
        }
      ]
    },
    {
      "cell_type": "code",
      "source": [
        "# Test accuracy after using STRIP\n",
        "c = 0\n",
        "for i in range(x_clean_test.shape[0]):\n",
        "    if y_predict_test_sun_multi[i] == y_clean_test[i]:\n",
        "        c=c+1\n",
        "print(\" Test Accuracy after STRIP = \",c*100.0/x_clean_test.shape[0])"
      ],
      "metadata": {
        "colab": {
          "base_uri": "https://localhost:8080/"
        },
        "id": "Qg7FAXIpx0UU",
        "outputId": "1c594c39-1891-4edd-fc42-351bcff6f297"
      },
      "execution_count": 185,
      "outputs": [
        {
          "output_type": "stream",
          "name": "stdout",
          "text": [
            " Test Accuracy after STRIP =  94.54403741231489\n"
          ]
        }
      ]
    },
    {
      "cell_type": "code",
      "execution_count": 157,
      "metadata": {
        "id": "-Z0_4FrZjRi5"
      },
      "outputs": [],
      "source": [
        "filehandler = open(\"/content/sample_data/multi_sunglasses.pickle\", 'wb') \n",
        "pickle.dump(G4, filehandler)\n",
        "filehandler.close()"
      ]
    },
    {
      "cell_type": "code",
      "source": [
        "file_to_read = open(\"/content/sample_data/multi_sunglasses.pickle\", \"rb\")\n",
        "sunglasses_obj = pickle.load(file_to_read)\n",
        "print(sunglasses_obj.threshold)"
      ],
      "metadata": {
        "colab": {
          "base_uri": "https://localhost:8080/"
        },
        "id": "Mgew9JDa6zWx",
        "outputId": "40fb1276-0aa2-4c08-df43-46c4a9f30de0"
      },
      "execution_count": 158,
      "outputs": [
        {
          "output_type": "stream",
          "name": "stdout",
          "text": [
            "0.2945972066112994\n"
          ]
        }
      ]
    },
    {
      "cell_type": "markdown",
      "source": [
        "## **Results of STRIP**\n",
        "\n",
        "We observe that after using STRIP, the Attack Success Rate decreases from 100.0% to 1.062% . The test accuracy before STRIP was 96.00935307872174% and after STRIP is 94.54403741231489%. This Clearly shows the efficacy of STRIP in recogizing poisoned input images meanwhile preserving test accuracy."
      ],
      "metadata": {
        "id": "LpRQwMVFG2ee"
      }
    },
    {
      "cell_type": "markdown",
      "metadata": {
        "id": "l-DBbpTWhiOK"
      },
      "source": [
        "# **Anonymous 1 Backdoor**"
      ]
    },
    {
      "cell_type": "code",
      "execution_count": 159,
      "metadata": {
        "colab": {
          "base_uri": "https://localhost:8080/",
          "height": 358
        },
        "id": "pUwV7u0V7vtn",
        "outputId": "5c7737bd-fdcf-47c4-aed5-bcb83ab252b2"
      },
      "outputs": [
        {
          "output_type": "stream",
          "name": "stdout",
          "text": [
            "Mu =  0.4863136563491821 Sigma =  0.10660963437710196\n",
            "Threshold(Detection boundary) =  0.23830256006373965\n",
            "False rejection rate, FRR =  0.01\n",
            "False acceptance rate, FAR =  0.256\n"
          ]
        },
        {
          "output_type": "display_data",
          "data": {
            "image/png": "[encoded data removed]",
            "text/plain": [
              "<Figure size 432x288 with 1 Axes>"
            ]
          },
          "metadata": {
            "needs_background": "light"
          }
        }
      ],
      "source": [
        "#TODO - Make this as a function of strip class\n",
        "model_ano1 = keras.models.load_model('/content/gdrive/MyDrive/MLCybersecProject/Models/anonymous_1_bd_net.h5')\n",
        "entropy_validation = Strip.returnEntropy(x_clean, x_clean, model_ano1, n_test=2000, n = 100)\n",
        "entropy_trojan = Strip.returnEntropy(x_ano1, x_clean, model_ano1, n_test=2000, n=100)\n",
        "threshold_ano1 = Strip.calThreshold(entropy_validation, entropy_trojan, n_test=2000, n=100, FRR = 0.01)\n",
        "Strip.plot_overlap(entropy_validation, entropy_trojan)"
      ]
    },
    {
      "cell_type": "code",
      "execution_count": null,
      "metadata": {
        "colab": {
          "base_uri": "https://localhost:8080/"
        },
        "id": "7bG-y4mB5cAU",
        "outputId": "ff672e36-6ab4-424e-eafb-516500d11b50"
      },
      "outputs": [
        {
          "output_type": "stream",
          "name": "stdout",
          "text": [
            "[0. 0. 0. ... 0. 0. 0.]\n"
          ]
        }
      ],
      "source": [
        "print(y_ano1)"
      ]
    },
    {
      "cell_type": "code",
      "execution_count": 160,
      "metadata": {
        "colab": {
          "base_uri": "https://localhost:8080/"
        },
        "id": "5fjyXPKF80aL",
        "outputId": "61e8d840-759c-4140-d1e2-4b5ad6016b54"
      },
      "outputs": [
        {
          "output_type": "stream",
          "name": "stdout",
          "text": [
            " Attack Success Rate =  91.3971161340608\n"
          ]
        }
      ],
      "source": [
        "#Attack Rate\n",
        "pred = model_ano1.predict(x_ano1)\n",
        "c = 0\n",
        "for i in range(x_ano1.shape[0]):\n",
        "    if np.argmax(pred[i]) == 0:\n",
        "        c=c+1\n",
        "print(\" Attack Success Rate = \",c*100.0/x_ano1.shape[0])"
      ]
    },
    {
      "cell_type": "code",
      "execution_count": 162,
      "metadata": {
        "colab": {
          "base_uri": "https://localhost:8080/"
        },
        "id": "KSOrzVi06fy6",
        "outputId": "cd324ec9-2693-499b-f3e7-f5e549978726"
      },
      "outputs": [
        {
          "output_type": "stream",
          "name": "stdout",
          "text": [
            " Clean Accuracy =   97.1862821512081\n"
          ]
        }
      ],
      "source": [
        "pred = model_ano1.predict(x_clean_test)\n",
        "c = 0\n",
        "for i in range(x_clean_test.shape[0]):\n",
        "    if np.argmax(pred[i]) == y_clean_test[i]:\n",
        "        c=c+1\n",
        "print(\" Clean Accuracy =  \",c*100.0/x_clean_test.shape[0])"
      ]
    },
    {
      "cell_type": "code",
      "execution_count": 163,
      "metadata": {
        "colab": {
          "base_uri": "https://localhost:8080/"
        },
        "id": "2xGT2EHz9Pgm",
        "outputId": "bc636109-7e55-4ea2-a3e8-d96d5b4410eb"
      },
      "outputs": [
        {
          "output_type": "stream",
          "name": "stdout",
          "text": [
            "Detection boundary:  0.23830256006373965\n"
          ]
        }
      ],
      "source": [
        "G5 = GoodNet(threshold_ano1)\n",
        "y_predict_ano1 = G5.compile(x_ano1, x_clean, model_ano1)"
      ]
    },
    {
      "cell_type": "code",
      "execution_count": 164,
      "metadata": {
        "colab": {
          "base_uri": "https://localhost:8080/"
        },
        "id": "2qf0WHKsD4cd",
        "outputId": "96f98718-b156-42cc-cc5e-9ee500cc44a4"
      },
      "outputs": [
        {
          "output_type": "stream",
          "name": "stdout",
          "text": [
            " Attack Success Rate after STRIP =  18.754871395167577\n"
          ]
        }
      ],
      "source": [
        "c = 0\n",
        "for i in range(x_ano1.shape[0]):\n",
        "    if y_predict_ano1[i] == y_ano1[i]:\n",
        "        c=c+1\n",
        "print(\" Attack Success Rate after STRIP = \",c*100.0/x_ano1.shape[0])"
      ]
    },
    {
      "cell_type": "code",
      "source": [
        "y_predict_test_ano = G5.compile(x_clean_test, x_clean, model_ano1)                             "
      ],
      "metadata": {
        "colab": {
          "base_uri": "https://localhost:8080/"
        },
        "id": "eGVzrHLT4Ym_",
        "outputId": "f1b1de5c-e917-4fcb-d17b-9f85bd5c192d"
      },
      "execution_count": 186,
      "outputs": [
        {
          "output_type": "stream",
          "name": "stdout",
          "text": [
            "Detection boundary:  0.23830256006373965\n"
          ]
        }
      ]
    },
    {
      "cell_type": "code",
      "source": [
        "c = 0\n",
        "for i in range(x_clean_test.shape[0]):\n",
        "    if y_predict_test_ano[i] == y_clean_test[i]:\n",
        "        c=c+1\n",
        "print(\" Test Accuracy after STRIP = \",c*100.0/x_clean_test.shape[0])"
      ],
      "metadata": {
        "colab": {
          "base_uri": "https://localhost:8080/"
        },
        "id": "LtQCjPO1--5q",
        "outputId": "3bdd90a6-86fd-4295-ec28-9b9a8b55f9f1"
      },
      "execution_count": 187,
      "outputs": [
        {
          "output_type": "stream",
          "name": "stdout",
          "text": [
            " Test Accuracy after STRIP =  95.33904910366329\n"
          ]
        }
      ]
    },
    {
      "cell_type": "code",
      "execution_count": 165,
      "metadata": {
        "id": "9lbv6xIrIyum"
      },
      "outputs": [],
      "source": [
        "filehandler = open(\"/content/sample_data/ano1.pickle\", 'wb') \n",
        "pickle.dump(G5, filehandler)\n",
        "filehandler.close()"
      ]
    },
    {
      "cell_type": "code",
      "source": [
        "file_to_read = open(\"/content/sample_data/ano1.pickle\", \"rb\")\n",
        "ano1_obj = pickle.load(file_to_read)\n",
        "print(ano1_obj.threshold)"
      ],
      "metadata": {
        "colab": {
          "base_uri": "https://localhost:8080/"
        },
        "id": "rqqFcjL2CTal",
        "outputId": "e79fd833-755d-49e9-91fd-8c657999c9d6"
      },
      "execution_count": 166,
      "outputs": [
        {
          "output_type": "stream",
          "name": "stdout",
          "text": [
            "0.23830256006373965\n"
          ]
        }
      ]
    },
    {
      "cell_type": "markdown",
      "source": [
        "# **Results of STRIP**\n",
        "\n",
        "We observe that after using STRIP, the Attack Success Rate decreases from 91.3971161340608% to 18.754871395167577% . The test accuracy before STRIP was  97.1862821512081% and after STRIP is  95.33904910366329%. This Clearly shows the efficacy of STRIP in recogizing poisoned input images meanwhile preserving test accuracy."
      ],
      "metadata": {
        "id": "ylCYtQPvICbR"
      }
    },
    {
      "cell_type": "markdown",
      "metadata": {
        "id": "lY3wRcb8hiuD"
      },
      "source": [
        "# **Anonymous 2 Backdoor**"
      ]
    },
    {
      "cell_type": "code",
      "execution_count": 167,
      "metadata": {
        "id": "n4QMerqlQ79R",
        "colab": {
          "base_uri": "https://localhost:8080/"
        },
        "outputId": "076ec353-b124-410a-b7d6-6307ddf9dff9"
      },
      "outputs": [
        {
          "output_type": "stream",
          "name": "stdout",
          "text": [
            "Mu =  0.4825648302006722 Sigma =  0.10253799036081014\n",
            "Threshold(Detection boundary) =  0.2440257943163813\n"
          ]
        }
      ],
      "source": [
        "#TODO - Make this as a function of strip class\n",
        "model_ano2 = keras.models.load_model('/content/gdrive/MyDrive/MLCybersecProject/Models/anonymous_2_bd_net.h5')\n",
        "entropy_validation = Strip.returnEntropy(x_clean,x_clean, model_ano2, n_test=2000, n = 100)\n",
        "(mu, sigma) = scipy.stats.norm.fit(entropy_validation)\n",
        "print('Mu = ',mu,'Sigma = ', sigma)\n",
        "\n",
        "threshold = scipy.stats.norm.ppf(0.01, loc = mu, scale =  sigma) #use a preset FRR of 0.01. This can be \n",
        "print('Threshold(Detection boundary) = ',threshold)"
      ]
    },
    {
      "cell_type": "code",
      "source": [
        "bins = 50\n",
        "plt.hist(entropy_validation, bins, weights=np.ones(len(entropy_validation)) / len(entropy_validation), alpha=1, label='clean input')\n",
        "plt.legend(loc='upper right', fontsize = 10)\n",
        "plt.ylabel('Probability (%)', fontsize = 10)\n",
        "plt.title('Normalized Entropy distribution', fontsize = 10)\n",
        "plt.tick_params(labelsize=20)\n",
        "plt.show()"
      ],
      "metadata": {
        "colab": {
          "base_uri": "https://localhost:8080/",
          "height": 288
        },
        "id": "iOTBvBsCFb8u",
        "outputId": "0e76691f-858e-419d-cd37-50cea430eac1"
      },
      "execution_count": 168,
      "outputs": [
        {
          "output_type": "display_data",
          "data": {
            "image/png": "[encoded data removed]",
            "text/plain": [
              "<Figure size 432x288 with 1 Axes>"
            ]
          },
          "metadata": {
            "needs_background": "light"
          }
        }
      ]
    },
    {
      "cell_type": "code",
      "source": [
        "pred = model_ano2.predict(x_clean_test)\n",
        "c = 0\n",
        "for i in range(x_clean_test.shape[0]):\n",
        "    if np.argmax(pred[i]) == y_clean_test[i]:\n",
        "        c=c+1\n",
        "print(\" Clean Accuracy =  \", c*100.0/x_clean_test.shape[0])"
      ],
      "metadata": {
        "colab": {
          "base_uri": "https://localhost:8080/"
        },
        "id": "wClJjZVnE2Cv",
        "outputId": "5ca7d914-97da-4043-cad3-54dbddfe80f5"
      },
      "execution_count": 169,
      "outputs": [
        {
          "output_type": "stream",
          "name": "stdout",
          "text": [
            " Clean Accuracy =   95.96258768511302\n"
          ]
        }
      ]
    },
    {
      "cell_type": "code",
      "source": [
        "G6 = GoodNet(threshold)"
      ],
      "metadata": {
        "id": "P6Y4Pu1ZFu0J"
      },
      "execution_count": 170,
      "outputs": []
    },
    {
      "cell_type": "code",
      "source": [
        "y_predict_test_ano2 = G6.compile(x_clean_test, x_clean, model_ano1)  "
      ],
      "metadata": {
        "colab": {
          "base_uri": "https://localhost:8080/"
        },
        "id": "NjzxsVhD_SNU",
        "outputId": "9fb56233-241a-4155-d7ea-3fcdec16b824"
      },
      "execution_count": 188,
      "outputs": [
        {
          "output_type": "stream",
          "name": "stdout",
          "text": [
            "Detection boundary:  0.2440257943163813\n"
          ]
        }
      ]
    },
    {
      "cell_type": "code",
      "source": [
        "c = 0\n",
        "for i in range(x_clean_test.shape[0]):\n",
        "    if y_predict_test_ano2[i] == y_clean_test[i]:\n",
        "        c=c+1\n",
        "print(\" Test Accuracy after STRIP = \",c*100.0/x_clean_test.shape[0])"
      ],
      "metadata": {
        "colab": {
          "base_uri": "https://localhost:8080/"
        },
        "id": "C9ffQuIVE5nc",
        "outputId": "a6c09ecd-b2fa-4e22-e56c-dd47b299ef8d"
      },
      "execution_count": 189,
      "outputs": [
        {
          "output_type": "stream",
          "name": "stdout",
          "text": [
            " Test Accuracy after STRIP =  95.19095869056898\n"
          ]
        }
      ]
    },
    {
      "cell_type": "code",
      "source": [
        "filehandler = open(\"/content/sample_data/ano2.pickle\", 'wb') \n",
        "pickle.dump(G6, filehandler)\n",
        "filehandler.close()"
      ],
      "metadata": {
        "id": "I-8r77M9F5Fj"
      },
      "execution_count": 190,
      "outputs": []
    },
    {
      "cell_type": "code",
      "source": [
        "file_to_read = open(\"/content/sample_data/ano2.pickle\", \"rb\")\n",
        "ano2_obj = pickle.load(file_to_read)\n",
        "print(ano2_obj.threshold)"
      ],
      "metadata": {
        "colab": {
          "base_uri": "https://localhost:8080/"
        },
        "id": "5uLddWWOIJxl",
        "outputId": "674b841d-8d9e-4e73-c255-88d669de49be"
      },
      "execution_count": 191,
      "outputs": [
        {
          "output_type": "stream",
          "name": "stdout",
          "text": [
            "0.2440257943163813\n"
          ]
        }
      ]
    },
    {
      "cell_type": "markdown",
      "source": [
        "## **Results of STRIP**\n",
        "\n",
        "The test accuracy before STRIP was 95.96258768511302% and after STRIP is 95.19095869056898%. In this case we cannot calculate Attack Success Rate as we do not have the poisonous data set for Anonymous 2 Backdoor."
      ],
      "metadata": {
        "id": "0G2iutIvImW5"
      }
    }
  ],
  "metadata": {
    "colab": {
      "collapsed_sections": [],
      "machine_shape": "hm",
      "name": "MLCybersecProject.ipynb",
      "provenance": []
    },
    "kernelspec": {
      "display_name": "Python 3",
      "name": "python3"
    },
    "language_info": {
      "name": "python"
    }
  },
  "nbformat": 4,
  "nbformat_minor": 0
}